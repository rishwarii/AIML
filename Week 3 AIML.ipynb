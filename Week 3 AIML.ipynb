{
 "cells": [
  {
   "cell_type": "code",
   "execution_count": null,
   "metadata": {},
   "outputs": [],
   "source": [
    "#WEEK 3"
   ]
  },
  {
   "cell_type": "code",
   "execution_count": null,
   "metadata": {},
   "outputs": [],
   "source": [
    "##Gaussian distribution - It is also known as normal distribution with mean 0 and standard deviation is 1\n",
    "\n",
    "##If the number of events is very large, then it is used to discribe physical events."
   ]
  },
  {
   "cell_type": "code",
   "execution_count": null,
   "metadata": {},
   "outputs": [],
   "source": [
    "##Binomial has discrete datapoints\n",
    "\n",
    "##Normal distribution has continuous datapoints.\n",
    "\n",
    "##There are a finite amount of events in a binomial\n",
    "#There are  infinite number in a normal distribution.\n"
   ]
  },
  {
   "cell_type": "code",
   "execution_count": null,
   "metadata": {},
   "outputs": [],
   "source": [
    "##Binomial distribution - Is a discrete distribution of random variables.\n",
    "##An event A can either appear with prob p or not appear with prob. q=1-p"
   ]
  },
  {
   "cell_type": "code",
   "execution_count": null,
   "metadata": {},
   "outputs": [],
   "source": [
    "##Logistics regression-Is a statistical model that in its basic form uses a logistic function to model a binary dependent variable, although many complex extensions exist.\n",
    "##In regression analysis, logistic regression is estimating the parameters of a logistic model."
   ]
  },
  {
   "cell_type": "code",
   "execution_count": null,
   "metadata": {},
   "outputs": [],
   "source": [
    "##Decision tree-Is a decision support tool that uses a tree-like model of decisions and their possible consequences, including chance event outcomes, resource costs, and utility, it is one way to display an algorithm that only contains conditional control statements."
   ]
  },
  {
   "cell_type": "code",
   "execution_count": null,
   "metadata": {},
   "outputs": [],
   "source": [
    "##Random forest classifier-They are an ensemble learning method for classification, regression and other tasks that operates by constructing a multiple  of decision trees at training time and outputting the class that is the mode of the classes or mean prediction of the individual trees."
   ]
  }
 ],
 "metadata": {
  "kernelspec": {
   "display_name": "Python 3",
   "language": "python",
   "name": "python3"
  },
  "language_info": {
   "codemirror_mode": {
    "name": "ipython",
    "version": 3
   },
   "file_extension": ".py",
   "mimetype": "text/x-python",
   "name": "python",
   "nbconvert_exporter": "python",
   "pygments_lexer": "ipython3",
   "version": "3.7.6"
  }
 },
 "nbformat": 4,
 "nbformat_minor": 4
}
