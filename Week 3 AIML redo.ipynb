{
 "cells": [
  {
   "cell_type": "markdown",
   "metadata": {},
   "source": [
    "#WEEK "
   ]
  },
  {
   "cell_type": "markdown",
   "metadata": {},
   "source": [
    "Gaussian distribution - It is also known as normal distribution with mean 0 and standard deviation is 1\n",
    "If the number of events is very large, then it is used to discribe physical events\n",
    "\n",
    "Gaussian distribution is also commonly called the \"normal distribution\" and is often described as a \"bell-shaped curve\"\n",
    "\n",
    "Gaussian distribution shown is normalized so that the sum over all values of x gives a probability of 1. The nature of the gaussian gives a probability of 0.683 of being within one standard deviation of the mean. The mean value is a=np where n is the number of events and p the probability of any integer value of x \n",
    "\n",
    "Gaussian distribution is ubiquitous because a dataset with finite variance turns into Gaussian as long as dataset with independent feature-probabilities is allowed to grow in size. Gaussian distribution is the most important probability distribution in statistics because it fits many natural phenomena like age, height, test-scores, IQ scores, sum of the rolls of two dices and so on."
   ]
  },
  {
   "cell_type": "markdown",
   "metadata": {},
   "source": [
    "Binomial distribution:\n",
    "\n",
    "Binomial distribution summarizes the number of trials, or observations when each trial has the same probability of attaining one particular value. The binomial distribution determines the probability of observing a specified number of successful outcomes in a specified number of trials.\n",
    "\n",
    "In probability theory and statistics, the binomial distribution with parameters n and p is the discrete probability distribution of the number of successes in a sequence of n independent experiments, each asking a yes–no question, and each with its own boolean-valued outcome: success/yes/true/one (with probability p) or failure/no/false/zero (with probability q = 1 − p). A single success/failure experiment is also called a Bernoulli trial or Bernoulli experiment and a sequence of outcomes is called a Bernoulli process; for a single trial, i.e., n = 1, the binomial distribution is a Bernoulli distribution. The binomial distribution is the basis for the popular binomial test of statistical significance.\n",
    "\n",
    "The binomial distribution is frequently used to model the number of successes in a sample of size n drawn with replacement from a population of size N. If the sampling is carried out without replacement, the draws are not independent and so the resulting distribution is a hypergeometric distribution, not a binomial one. However, for N much larger than n, the binomial distribution remains a good approximation, and is widely used.\n",
    "\n",
    "Normal distribution, also known as the Gaussian distribution, is a probability distribution that is symmetric about the mean, showing that data near the mean are more frequent in occurrence than data far from the mean. In graph form, normal distribution will appear as a bell curve\n",
    "\n",
    "The binomial distribution describes the number of positive outcomes in binary experiments, and it is the “mother” distribution from which the other two distributions can be obtained\n",
    "\n",
    "The Gaussian distribution can be considered as a special case of the binomial, when the number of tries is sufficiently large. For this reason, the Gaussian distribution applies to a large number of variables, and it is referred to as the normal distribution. \n",
    "\n",
    "There are a finite amount of events in a binomial\n",
    "\n",
    "There are  infinite number in a normal distribution.\n",
    "\n",
    "Binomial distribution - Is a discrete distribution of random variables.\n",
    "An event A can either appear with prob p or not appear with prob. q=1-p\n"
   ]
  },
  {
   "cell_type": "markdown",
   "metadata": {},
   "source": [
    "Logistic Regression is used when the dependent variable(target) is categorical.\n",
    "In statistics, the logistic model is used to model the probability of a certain class or event existing such as pass/fail, win/lose, alive/dead or healthy/sick. This can be extended to model several classes of events such as determining whether an image contains a cat, dog, lion, etc"
   ]
  },
  {
   "cell_type": "markdown",
   "metadata": {},
   "source": [
    "A Decision Tree is a simple representation for classifying examples. It is a Supervised Machine Learning where the data is continuously split according to a certain parameter.\n",
    "\n",
    "Two types :\n",
    "    Classification Trees :  decision variable is Categorical/ discrete. (ex fit , unfit)\n",
    "    \n",
    "    Regression Trees : where the target variable can take continuous values (typically real numbers) are called regression trees. (e.g. the price of a house, or a patient’s length of stay in a hospital)\n",
    "    \n",
    "Using the decision algorithm, we start at the tree root and split the data on the feature that results in the largest information gain ,we can then repeat this splitting procedure at each child node until the leaves are pure.\n",
    "\n",
    "Ex : Biomedical Engineering, Financial analysis (Customer Satisfaction with a product or service).\n",
    "Astronomy (classify galaxy)."
   ]
  },
  {
   "cell_type": "markdown",
   "metadata": {},
   "source": [
    "Random Forest Classifier :\n",
    "It is an ensemble tree-based learning algorithm. The Random Forest Classifier is a set of decision trees from randomly selected subset of training set. It aggregates the votes from different decision trees to decide the final class of the test object.\n",
    "It is one of the most accurate learning algorithms available. For many data sets, it produces a highly accurate classifier.\n",
    "It runs efficiently on large databases.\n",
    "It can handle thousands of input variables without variable deletion.\n",
    "It gives estimates of what variables that are important in the classification.\n",
    "It generates an internal unbiased estimate of the generalization error as the forest building progresses.\n",
    "It has an effective method for estimating missing data and maintains accuracy when a large proportion of the data are missing.\n",
    "\n",
    "Random forests have been observed to overfit for some datasets with noisy classification/regression tasks.\n",
    "For data including categorical variables with different number of levels, random forests are biased in favor of those attributes with more levels\n"
   ]
  },
  {
   "cell_type": "code",
   "execution_count": null,
   "metadata": {},
   "outputs": [],
   "source": []
  }
 ],
 "metadata": {
  "kernelspec": {
   "display_name": "Python 3",
   "language": "python",
   "name": "python3"
  },
  "language_info": {
   "codemirror_mode": {
    "name": "ipython",
    "version": 3
   },
   "file_extension": ".py",
   "mimetype": "text/x-python",
   "name": "python",
   "nbconvert_exporter": "python",
   "pygments_lexer": "ipython3",
   "version": "3.7.6"
  }
 },
 "nbformat": 4,
 "nbformat_minor": 4
}
